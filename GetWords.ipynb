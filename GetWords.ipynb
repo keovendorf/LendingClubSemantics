{
 "cells": [
  {
   "cell_type": "code",
   "execution_count": null,
   "metadata": {},
   "outputs": [],
   "source": [
    "# import nltk\n",
    "import pandas as pd\n",
    "from glob import glob\n",
    "import gensim.downloader as api\n",
    "from nltk.tokenize import TweetTokenizer\n",
    "import wordninja\n",
    "import numpy as np\n",
    "import re\n",
    "from spellchecker import SpellChecker\n",
    "\n",
    "spell = SpellChecker()"
   ]
  },
  {
   "cell_type": "code",
   "execution_count": 2,
   "metadata": {},
   "outputs": [],
   "source": [
    "tokenizer = TweetTokenizer()\n",
    "glove_model = api.load(\"glove-twitter-25\")\n",
    "files = glob(\"lending_club_data/*.zip\")"
   ]
  },
  {
   "cell_type": "code",
   "execution_count": 3,
   "metadata": {},
   "outputs": [],
   "source": [
    "def read_one(path):\n",
    "    return pd.read_csv(path, low_memory=False, skiprows=1, compression=\"zip\")\n",
    "\n",
    "\n",
    "def create_combined_dataset(files):\n",
    "\n",
    "    data = [read_one(f\"{file}\") for file in files if file.endswith(\".zip\")]\n",
    "    return pd.concat(data)\n",
    "\n",
    "\n",
    "def build_dataset():\n",
    "\n",
    "    features = [\n",
    "        \"title\",\n",
    "        # \"purpose\", \n",
    "        \"emp_title\",\n",
    "    ]\n",
    "    df = create_combined_dataset(files)\n",
    "\n",
    "    print(df.head())\n",
    "    return df[features]"
   ]
  },
  {
   "cell_type": "code",
   "execution_count": 31,
   "metadata": {},
   "outputs": [
    {
     "output_type": "stream",
     "name": "stdout",
     "text": [
      "          id  member_id  loan_amnt  funded_amnt  funded_amnt_inv        term  \\\n0  163477201        NaN     5000.0       5000.0           5000.0   36 months   \n1  163564694        NaN    23000.0      23000.0          23000.0   36 months   \n2  164137439        NaN    33000.0      33000.0          33000.0   60 months   \n3  164024547        NaN     3000.0       3000.0           3000.0   36 months   \n4  163607777        NaN    25000.0      25000.0          25000.0   60 months   \n\n  int_rate  installment grade sub_grade  ...  \\\n0   17.74%       180.12     C        C5  ...   \n1    6.46%       704.51     A        A1  ...   \n2   15.24%       789.24     C        C2  ...   \n3   23.05%       116.21     D        D3  ...   \n4   10.33%       535.25     B        B1  ...   \n\n  orig_projected_additional_accrued_interest hardship_payoff_balance_amount  \\\n0                                        NaN                            NaN   \n1                                     228.77                        21255.9   \n2                                        NaN                            NaN   \n3                                        NaN                            NaN   \n4                                        NaN                            NaN   \n\n  hardship_last_payment_amount  debt_settlement_flag  \\\n0                          NaN                     N   \n1                       704.51                     N   \n2                          NaN                     N   \n3                          NaN                     N   \n4                          NaN                     N   \n\n  debt_settlement_flag_date settlement_status settlement_date  \\\n0                       NaN               NaN             NaN   \n1                       NaN               NaN             NaN   \n2                       NaN               NaN             NaN   \n3                       NaN               NaN             NaN   \n4                       NaN               NaN             NaN   \n\n  settlement_amount settlement_percentage settlement_term  \n0               NaN                   NaN             NaN  \n1               NaN                   NaN             NaN  \n2               NaN                   NaN             NaN  \n3               NaN                   NaN             NaN  \n4               NaN                   NaN             NaN  \n\n[5 rows x 150 columns]\n"
     ]
    }
   ],
   "source": [
    "df = build_dataset()"
   ]
  },
  {
   "cell_type": "code",
   "execution_count": 5,
   "metadata": {},
   "outputs": [
    {
     "output_type": "execute_result",
     "data": {
      "text/plain": [
       "Teacher                                     49656\n",
       "Manager                                     43333\n",
       "Owner                                       24758\n",
       "Registered Nurse                            20495\n",
       "Driver                                      19491\n",
       "                                            ...  \n",
       "Lineage Investments Inc DBA Worldwide Ex        1\n",
       "CORP Admin                                      1\n",
       "Ink Technician                                  1\n",
       "garden estates of tyler                         1\n",
       "Inventiv health clinical                        1\n",
       "Name: emp_title, Length: 587644, dtype: int64"
      ]
     },
     "metadata": {},
     "execution_count": 5
    }
   ],
   "source": [
    "df[\"emp_title\"].value_counts()"
   ]
  },
  {
   "cell_type": "code",
   "execution_count": 32,
   "metadata": {},
   "outputs": [
    {
     "output_type": "execute_result",
     "data": {
      "text/plain": [
       "                       title         emp_title\n",
       "167087  paymycreditcardsdebt  Hunters Run c.c."
      ],
      "text/html": "<div>\n<style scoped>\n    .dataframe tbody tr th:only-of-type {\n        vertical-align: middle;\n    }\n\n    .dataframe tbody tr th {\n        vertical-align: top;\n    }\n\n    .dataframe thead th {\n        text-align: right;\n    }\n</style>\n<table border=\"1\" class=\"dataframe\">\n  <thead>\n    <tr style=\"text-align: right;\">\n      <th></th>\n      <th>title</th>\n      <th>emp_title</th>\n    </tr>\n  </thead>\n  <tbody>\n    <tr>\n      <th>167087</th>\n      <td>paymycreditcardsdebt</td>\n      <td>Hunters Run c.c.</td>\n    </tr>\n  </tbody>\n</table>\n</div>"
     },
     "metadata": {},
     "execution_count": 32
    }
   ],
   "source": [
    "df[df[\"title\"].str.lower() == \"re.split(r'\\W+', 'Words, words, words.')\"]"
   ]
  },
  {
   "cell_type": "code",
   "execution_count": 97,
   "metadata": {},
   "outputs": [],
   "source": [
    "mask = [isinstance(item, (str, bytes)) for item in df['title']]\n",
    "df = df.loc[mask]\n",
    "mask = [isinstance(item, (str, bytes)) for item in df['emp_title']]\n",
    "df = df.loc[mask]\n",
    "\n",
    "# words = [get_words(col) for col in [\"title\",\"emp_title\",]]"
   ]
  },
  {
   "cell_type": "code",
   "execution_count": 120,
   "metadata": {},
   "outputs": [],
   "source": [
    "SINGLES = {\"other\",\"vacation\",\"business\",\"consolidate\"}\n",
    "def get_vectors(input_string):\n",
    "    \"\"\"Get the sum of the word vectors... Also, try to clean up some stuff\"\"\"\n",
    "    # Empty array\n",
    "    final_vector = np.zeros(25)\n",
    "    # Tokenize the words in the input\n",
    "    words = tokenizer.tokenize(input_string)\n",
    "    # If there's only one word, something went wrong with the tokenizer\n",
    "    if len(words) == 1 and words[0].lower() not in SINGLES:\n",
    "        # Try to split without spaces\n",
    "        words = wordninja.split(words[0])\n",
    "        # print(words)\n",
    "        if len(words) == 1:\n",
    "                # print(\"split\")\n",
    "                words = re.split(r\"[\\W_]+\", words[0])\n",
    "    # Check for spelling errors\n",
    "    # misspelled = spell.unknown(words)\n",
    "    # For the words we've found\n",
    "    for word in words:\n",
    "        # If the word is misspelled\n",
    "        # if word in misspelled:\n",
    "        #     print(f\"Fixing {word}\")\n",
    "        #     # Correct it\n",
    "        #     word = spell.correction(word)\n",
    "        try:\n",
    "            # Add the vector from glove to the final_vector\n",
    "            final_vector += glove_model.word_vec(word.lower())\n",
    "        except KeyError:\n",
    "            # print(f\"{word.lower()} not valid\")\n",
    "            pass\n",
    "    # print(f\"Added {len(words)}\")\n",
    "    return final_vector\n",
    "\n"
   ]
  },
  {
   "cell_type": "code",
   "execution_count": 121,
   "metadata": {
    "tags": []
   },
   "outputs": [],
   "source": [
    "df[\"title_vectors\"] = df[\"title\"].apply(lambda x: get_vectors(x))\n",
    "df[\"emp_title_vectors\"] = df[\"emp_title\"].apply(lambda x: get_vectors(x))"
   ]
  },
  {
   "cell_type": "code",
   "execution_count": 122,
   "metadata": {},
   "outputs": [
    {
     "output_type": "execute_result",
     "data": {
      "text/plain": [
       "                          title                              emp_title  \\\n",
       "0            Debt consolidation                          Lead Mtc Tech   \n",
       "2       Credit card refinancing                      Financial Analyst   \n",
       "4       Credit card refinancing                Industrial electrician    \n",
       "5            Debt consolidation                       Tech Ops Analyst   \n",
       "7       Credit card refinancing                                     Rn   \n",
       "...                         ...                                    ...   \n",
       "130766       Debt consolidation  Direct Service Provider Day Activity    \n",
       "130768                    Other                                Cleaner   \n",
       "130769       Debt consolidation                         client analyst   \n",
       "130770                    Other                    Residence Counselor   \n",
       "130771       Debt consolidation                                Founder   \n",
       "\n",
       "                                            title_vectors  \\\n",
       "0       [0.05954001843929291, 2.402799963951111, -3.73...   \n",
       "2       [-0.7273850105702877, 2.72393000125885, -1.896...   \n",
       "4       [-0.7273850105702877, 2.72393000125885, -1.896...   \n",
       "5       [0.05954001843929291, 2.402799963951111, -3.73...   \n",
       "7       [-0.7273850105702877, 2.72393000125885, -1.896...   \n",
       "...                                                   ...   \n",
       "130766  [0.05954001843929291, 2.402799963951111, -3.73...   \n",
       "130768  [0.5369499921798706, 0.4911800026893616, 0.286...   \n",
       "130769  [0.05954001843929291, 2.402799963951111, -3.73...   \n",
       "130770  [0.5369499921798706, 0.4911800026893616, 0.286...   \n",
       "130771  [0.05954001843929291, 2.402799963951111, -3.73...   \n",
       "\n",
       "                                        emp_title_vectors  \n",
       "0       [0.1498199701309204, 1.855019986629486, -1.632...  \n",
       "2       [0.05384000390768051, 2.3497299551963806, -2.9...  \n",
       "4       [-2.1752399802207947, 0.5005300045013428, -1.8...  \n",
       "5       [1.6198199912905693, 1.7082599997520447, -1.48...  \n",
       "7       [-0.5483499765396118, 0.07089100033044815, -0....  \n",
       "...                                                   ...  \n",
       "130766  [0.1776300072669983, 3.315699964761734, -2.947...  \n",
       "130768  [-1.2438000440597534, -0.46535998582839966, -0...  \n",
       "130769  [-0.4282099977135658, 1.5535699725151062, -2.1...  \n",
       "130770  [-3.0353000164031982, 1.2958319932222366, -0.0...  \n",
       "130771  [-0.547290027141571, 0.8032699823379517, 0.286...  \n",
       "\n",
       "[2615278 rows x 4 columns]"
      ],
      "text/html": "<div>\n<style scoped>\n    .dataframe tbody tr th:only-of-type {\n        vertical-align: middle;\n    }\n\n    .dataframe tbody tr th {\n        vertical-align: top;\n    }\n\n    .dataframe thead th {\n        text-align: right;\n    }\n</style>\n<table border=\"1\" class=\"dataframe\">\n  <thead>\n    <tr style=\"text-align: right;\">\n      <th></th>\n      <th>title</th>\n      <th>emp_title</th>\n      <th>title_vectors</th>\n      <th>emp_title_vectors</th>\n    </tr>\n  </thead>\n  <tbody>\n    <tr>\n      <th>0</th>\n      <td>Debt consolidation</td>\n      <td>Lead Mtc Tech</td>\n      <td>[0.05954001843929291, 2.402799963951111, -3.73...</td>\n      <td>[0.1498199701309204, 1.855019986629486, -1.632...</td>\n    </tr>\n    <tr>\n      <th>2</th>\n      <td>Credit card refinancing</td>\n      <td>Financial Analyst</td>\n      <td>[-0.7273850105702877, 2.72393000125885, -1.896...</td>\n      <td>[0.05384000390768051, 2.3497299551963806, -2.9...</td>\n    </tr>\n    <tr>\n      <th>4</th>\n      <td>Credit card refinancing</td>\n      <td>Industrial electrician</td>\n      <td>[-0.7273850105702877, 2.72393000125885, -1.896...</td>\n      <td>[-2.1752399802207947, 0.5005300045013428, -1.8...</td>\n    </tr>\n    <tr>\n      <th>5</th>\n      <td>Debt consolidation</td>\n      <td>Tech Ops Analyst</td>\n      <td>[0.05954001843929291, 2.402799963951111, -3.73...</td>\n      <td>[1.6198199912905693, 1.7082599997520447, -1.48...</td>\n    </tr>\n    <tr>\n      <th>7</th>\n      <td>Credit card refinancing</td>\n      <td>Rn</td>\n      <td>[-0.7273850105702877, 2.72393000125885, -1.896...</td>\n      <td>[-0.5483499765396118, 0.07089100033044815, -0....</td>\n    </tr>\n    <tr>\n      <th>...</th>\n      <td>...</td>\n      <td>...</td>\n      <td>...</td>\n      <td>...</td>\n    </tr>\n    <tr>\n      <th>130766</th>\n      <td>Debt consolidation</td>\n      <td>Direct Service Provider Day Activity</td>\n      <td>[0.05954001843929291, 2.402799963951111, -3.73...</td>\n      <td>[0.1776300072669983, 3.315699964761734, -2.947...</td>\n    </tr>\n    <tr>\n      <th>130768</th>\n      <td>Other</td>\n      <td>Cleaner</td>\n      <td>[0.5369499921798706, 0.4911800026893616, 0.286...</td>\n      <td>[-1.2438000440597534, -0.46535998582839966, -0...</td>\n    </tr>\n    <tr>\n      <th>130769</th>\n      <td>Debt consolidation</td>\n      <td>client analyst</td>\n      <td>[0.05954001843929291, 2.402799963951111, -3.73...</td>\n      <td>[-0.4282099977135658, 1.5535699725151062, -2.1...</td>\n    </tr>\n    <tr>\n      <th>130770</th>\n      <td>Other</td>\n      <td>Residence Counselor</td>\n      <td>[0.5369499921798706, 0.4911800026893616, 0.286...</td>\n      <td>[-3.0353000164031982, 1.2958319932222366, -0.0...</td>\n    </tr>\n    <tr>\n      <th>130771</th>\n      <td>Debt consolidation</td>\n      <td>Founder</td>\n      <td>[0.05954001843929291, 2.402799963951111, -3.73...</td>\n      <td>[-0.547290027141571, 0.8032699823379517, 0.286...</td>\n    </tr>\n  </tbody>\n</table>\n<p>2615278 rows × 4 columns</p>\n</div>"
     },
     "metadata": {},
     "execution_count": 122
    }
   ],
   "source": [
    "df"
   ]
  },
  {
   "cell_type": "code",
   "execution_count": null,
   "metadata": {},
   "outputs": [],
   "source": []
  }
 ],
 "metadata": {
  "kernelspec": {
   "display_name": "Python 3",
   "name": "python3"
  },
  "language_info": {
   "codemirror_mode": {
    "name": "ipython",
    "version": 3
   },
   "file_extension": ".py",
   "mimetype": "text/x-python",
   "name": "python",
   "nbconvert_exporter": "python",
   "pygments_lexer": "ipython3",
   "version": "3.8.6-final"
  }
 },
 "nbformat": 4,
 "nbformat_minor": 2
}